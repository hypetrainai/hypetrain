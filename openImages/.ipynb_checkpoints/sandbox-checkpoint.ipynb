{
 "cells": [
  {
   "cell_type": "code",
   "execution_count": 7,
   "metadata": {},
   "outputs": [],
   "source": [
    "import numpy as np\n",
    "from os import listdir\n",
    "from os.path import join\n",
    "import pandas as pd"
   ]
  },
  {
   "cell_type": "code",
   "execution_count": 41,
   "metadata": {},
   "outputs": [],
   "source": [
    "computer = 'Darvin'#'Kotz'\n",
    "\n",
    "if computer == 'Darvin':\n",
    "    path_data_root = '/media/darvin/data/Data/open-images'\n",
    "elif computer == 'Kotz':\n",
    "    path_data_root = ''\n",
    "\n",
    "path_data_tr = join(path_data_root, 'train')\n",
    "path_data_va = join(path_data_root, 'validation')\n",
    "path_data_te = join(path_data_root, 'test')\n",
    "\n",
    "path_data_classes = join(path_data_root, 'challenge-2018-class-descriptions-500.csv')\n",
    "path_data_bbox = join(path_data_root, 'validation-annotations-bbox.csv')"
   ]
  },
  {
   "cell_type": "code",
   "execution_count": 42,
   "metadata": {},
   "outputs": [],
   "source": [
    "csv_bbox = pd.read_csv(path_data_bbox)\n",
    "csv_classes = pd.read_csv(path_data_classes, header=None, names=['LabelName','Object'])"
   ]
  },
  {
   "cell_type": "code",
   "execution_count": null,
   "metadata": {},
   "outputs": [],
   "source": []
  },
  {
   "cell_type": "code",
   "execution_count": null,
   "metadata": {},
   "outputs": [],
   "source": [
    "'''\n",
    "Let's go through the validation set to create id2class label.\n",
    "'''\n",
    "\n",
    "class2obj = {}\n",
    "obj2class = {}\n",
    "lab2class = {}\n",
    "for ind,row in csv_classes.iterrows():\n",
    "    lab2class[row['LabelName']] = ind\n",
    "    class2obj[ind] = row['Object']\n",
    "    obj2class[row['Object']] = ind"
   ]
  },
  {
   "cell_type": "code",
   "execution_count": 43,
   "metadata": {},
   "outputs": [
    {
     "data": {
      "text/plain": [
       "False"
      ]
     },
     "execution_count": 43,
     "metadata": {},
     "output_type": "execute_result"
    }
   ],
   "source": [
    "'0a1aee5d7701ce5c' in csv_bbox['ImageID']"
   ]
  },
  {
   "cell_type": "code",
   "execution_count": 25,
   "metadata": {
    "scrolled": true
   },
   "outputs": [
    {
     "name": "stdout",
     "output_type": "stream",
     "text": [
      "/m/061hd_ Infant bed\n"
     ]
    }
   ],
   "source": [
    "\n",
    "for ind,row in csv_classes.iterrows():\n",
    "    print(row['LabelName'], row['Object'])\n",
    "    break"
   ]
  },
  {
   "cell_type": "code",
   "execution_count": null,
   "metadata": {},
   "outputs": [],
   "source": []
  }
 ],
 "metadata": {
  "kernelspec": {
   "display_name": "Python 3",
   "language": "python",
   "name": "python3"
  },
  "language_info": {
   "codemirror_mode": {
    "name": "ipython",
    "version": 3
   },
   "file_extension": ".py",
   "mimetype": "text/x-python",
   "name": "python",
   "nbconvert_exporter": "python",
   "pygments_lexer": "ipython3",
   "version": "3.6.5"
  }
 },
 "nbformat": 4,
 "nbformat_minor": 2
}
