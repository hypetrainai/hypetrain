{
 "cells": [
  {
   "cell_type": "code",
   "execution_count": 1,
   "metadata": {},
   "outputs": [
    {
     "name": "stderr",
     "output_type": "stream",
     "text": [
      "/usr/lib/python3.5/importlib/_bootstrap.py:222: RuntimeWarning: numpy.dtype size changed, may indicate binary incompatibility. Expected 96, got 88\n",
      "  return f(*args, **kwds)\n",
      "/usr/lib/python3.5/importlib/_bootstrap.py:222: RuntimeWarning: numpy.dtype size changed, may indicate binary incompatibility. Expected 96, got 88\n",
      "  return f(*args, **kwds)\n"
     ]
    }
   ],
   "source": [
    "import numpy as np\n",
    "import scipy\n",
    "import scipy.io.wavfile\n",
    "import glob"
   ]
  },
  {
   "cell_type": "code",
   "execution_count": 11,
   "metadata": {},
   "outputs": [
    {
     "name": "stdout",
     "output_type": "stream",
     "text": [
      "110\n"
     ]
    }
   ],
   "source": [
    "filenames = glob.glob('data/MIR-1K/*.wav')\n",
    "undivided_filenames = [file for file in filenames if len(file.split('_'))<=2]"
   ]
  },
  {
   "cell_type": "code",
   "execution_count": 12,
   "metadata": {},
   "outputs": [],
   "source": [
    "data = scipy.io.wavfile.read(undivided_filenames[0])\n"
   ]
  },
  {
   "cell_type": "code",
   "execution_count": 17,
   "metadata": {},
   "outputs": [],
   "source": [
    "scipy.io.wavfile.write('test0.wav',data[0],data[1][:,0])\n",
    "scipy.io.wavfile.write('test1.wav',data[0],data[1][:,1])\n",
    "scipy.io.wavfile.write('test2.wav',data[0],data[1][:,0]+data[1][:,1])"
   ]
  },
  {
   "cell_type": "code",
   "execution_count": 23,
   "metadata": {},
   "outputs": [],
   "source": [
    "import pickle as pkl\n",
    "data_test = pkl.load(open('data/16k_LARGE_fixed/test.pkl.gz','rb'))"
   ]
  },
  {
   "cell_type": "code",
   "execution_count": 27,
   "metadata": {},
   "outputs": [
    {
     "data": {
      "text/plain": [
       "array([-32768, -32767, -32766, ...,  32765,  32766,  32767], dtype=int16)"
      ]
     },
     "execution_count": 27,
     "metadata": {},
     "output_type": "execute_result"
    }
   ],
   "source": [
    "np.unique(data_test['TrickorDream.mp3'][0])"
   ]
  },
  {
   "cell_type": "code",
   "execution_count": 28,
   "metadata": {},
   "outputs": [
    {
     "data": {
      "text/plain": [
       "array([-26467, -25930, -25844, ...,  26722,  26944,  28178], dtype=int16)"
      ]
     },
     "execution_count": 28,
     "metadata": {},
     "output_type": "execute_result"
    }
   ],
   "source": [
    "np.unique(data[1][:,0])"
   ]
  },
  {
   "cell_type": "code",
   "execution_count": 35,
   "metadata": {},
   "outputs": [],
   "source": [
    "#test set ariel, bobon, \n",
    "\n",
    "def train_split(filename):\n",
    "    if 'ariel' in filename or 'bobon' in filename:\n",
    "        train = 0\n",
    "    elif '_1' in filename:\n",
    "        train = 0\n",
    "    else:\n",
    "        train = 1\n",
    "    return train\n",
    "\n",
    "train_dict = {}\n",
    "test_dict = {}\n",
    "\n",
    "for filename in undivided_filenames:\n",
    "    train_flag = train_split(filename)\n",
    "    \n",
    "    data = scipy.io.wavfile.read(filename)\n",
    "    data_music = np.array(data[1][:,0],dtype=np.float32)\n",
    "    data_vocal = np.array(data[1][:,1],dtype=np.float32)\n",
    "    data_mixed = data_music+data_vocal\n",
    "    \n",
    "    if train_flag:\n",
    "        train_dict[filename] = data_mixed, data_music\n",
    "    else:\n",
    "        test_dict[filename] = data_mixed, data_music\n",
    "    \n",
    "\n",
    "with open('data/MIR-1K/train.pkl.gz', 'wb') as f:\n",
    "    pkl.dump(train_dict, f, protocol=pkl.HIGHEST_PROTOCOL)\n",
    "\n",
    "with open('data/MIR-1K/test.pkl.gz', 'wb') as f:\n",
    "    pkl.dump(test_dict, f, protocol=pkl.HIGHEST_PROTOCOL)"
   ]
  },
  {
   "cell_type": "code",
   "execution_count": null,
   "metadata": {},
   "outputs": [],
   "source": []
  }
 ],
 "metadata": {
  "kernelspec": {
   "display_name": "Python 2",
   "language": "python",
   "name": "python2"
  },
  "language_info": {
   "codemirror_mode": {
    "name": "ipython",
    "version": 2
   },
   "file_extension": ".py",
   "mimetype": "text/x-python",
   "name": "python",
   "nbconvert_exporter": "python",
   "pygments_lexer": "ipython2",
   "version": "2.7.13"
  }
 },
 "nbformat": 4,
 "nbformat_minor": 2
}
