{
 "cells": [
  {
   "cell_type": "code",
   "execution_count": null,
   "metadata": {
    "colab": {},
    "colab_type": "code",
    "id": "G18VB5w7mNoK"
   },
   "outputs": [],
   "source": [
    "!pip install musdb"
   ]
  },
  {
   "cell_type": "code",
   "execution_count": 26,
   "metadata": {},
   "outputs": [],
   "source": [
    "import librosa\n",
    "import math\n",
    "import numpy as np\n",
    "import os\n",
    "import pickle\n",
    "import sys\n",
    "\n",
    "import musdb\n",
    "mus = musdb.DB(root_dir='/mnt/z/data/musdb18')"
   ]
  },
  {
   "cell_type": "code",
   "execution_count": 18,
   "metadata": {
    "colab": {
     "base_uri": "https://localhost:8080/",
     "height": 51
    },
    "colab_type": "code",
    "id": "3ovfnKPOQda5",
    "outputId": "3352c90b-a918-4185-c152-424b4fd6ab77"
   },
   "outputs": [],
   "source": [
    "SAMPLE_RATE = 44100\n",
    "TARGET_SAMPLE_RATE = 16000\n",
    "tracks = mus.load_mus_tracks()\n",
    "all_data = []\n",
    "for track in tracks:\n",
    "    vocal = track.targets['vocals'].audio\n",
    "    off_vocal = track.targets['accompaniment'].audio\n",
    "    # Stereo to mono and resample.\n",
    "    vocal = (vocal[:, 0] + vocal[:, 1]) / 2\n",
    "    vocal = librosa.core.resample(vocal, SAMPLE_RATE, TARGET_SAMPLE_RATE)\n",
    "    off_vocal = (off_vocal[:, 0] + off_vocal[:, 1]) / 2\n",
    "    off_vocal = librosa.core.resample(off_vocal, SAMPLE_RATE, TARGET_SAMPLE_RATE)\n",
    "    all_data.append((track.name, vocal + off_vocal, off_vocal))"
   ]
  },
  {
   "cell_type": "code",
   "execution_count": 34,
   "metadata": {},
   "outputs": [
    {
     "name": "stdout",
     "output_type": "stream",
     "text": [
      "('Train:', ['Music Delta - Rock'])\n",
      "('Test:', ['PR - Oh No'])\n"
     ]
    }
   ],
   "source": [
    "idx = np.array(range(len(all_data)))\n",
    "np.random.seed(12345678)\n",
    "np.random.shuffle(idx)\n",
    "num_train = int(math.ceil(0.5 * len(all_data)))\n",
    "\n",
    "train_data = {}\n",
    "test_data = {}\n",
    "for i in range(len(all_data)):\n",
    "    filename, data_on, data_off = all_data[idx[i]]\n",
    "    assert len(data_on) == len(data_off)\n",
    "    if i >= num_train:\n",
    "        test_data[filename] = data_on, data_off\n",
    "    else:\n",
    "        train_data[filename] = data_on, data_off\n",
    "\n",
    "output_dir = '/mnt/z/Dropbox/projects/hypetrain/deepkaraoke/data'\n",
    "print('Train:', train_data.keys())\n",
    "with open(os.path.join(output_dir, 'train.pkl.gz'), 'wb') as f:\n",
    "    pickle.dump(train_data, f, protocol=2)\n",
    "\n",
    "print('Test:', test_data.keys())\n",
    "with open(os.path.join(output_dir, 'test.pkl.gz'), 'wb') as f:\n",
    "    pickle.dump(test_data, f, protocol=2)"
   ]
  }
 ],
 "metadata": {
  "colab": {
   "collapsed_sections": [],
   "include_colab_link": true,
   "name": "karaoke_mp3_preprocess",
   "provenance": [],
   "version": "0.3.2"
  },
  "kernelspec": {
   "display_name": "Python 2",
   "language": "python",
   "name": "python2"
  },
  "language_info": {
   "codemirror_mode": {
    "name": "ipython",
    "version": 2
   },
   "file_extension": ".py",
   "mimetype": "text/x-python",
   "name": "python",
   "nbconvert_exporter": "python",
   "pygments_lexer": "ipython2",
   "version": "2.7.13"
  }
 },
 "nbformat": 4,
 "nbformat_minor": 1
}
