{
 "cells": [
  {
   "cell_type": "code",
   "execution_count": null,
   "metadata": {
    "colab": {},
    "colab_type": "code",
    "id": "G18VB5w7mNoK"
   },
   "outputs": [],
   "source": [
    "!pip install musdb"
   ]
  },
  {
   "cell_type": "code",
   "execution_count": 6,
   "metadata": {},
   "outputs": [],
   "source": [
    "import librosa\n",
    "import math\n",
    "import numpy as np\n",
    "import os\n",
    "import pickle\n",
    "import sys\n",
    "\n",
    "import musdb\n",
    "mus = musdb.DB(root_dir='/mnt/z/data/musdb18')"
   ]
  },
  {
   "cell_type": "code",
   "execution_count": 7,
   "metadata": {
    "colab": {
     "base_uri": "https://localhost:8080/",
     "height": 51
    },
    "colab_type": "code",
    "id": "3ovfnKPOQda5",
    "outputId": "3352c90b-a918-4185-c152-424b4fd6ab77"
   },
   "outputs": [],
   "source": [
    "SAMPLE_RATE = 44100\n",
    "TARGET_SAMPLE_RATE = 16000\n",
    "tracks = mus.load_mus_tracks()\n",
    "all_data = []\n",
    "for track in tracks:\n",
    "    vocal = track.targets['vocals'].audio\n",
    "    off_vocal = track.targets['accompaniment'].audio\n",
    "    # Stereo to mono and resample.\n",
    "    vocal = (vocal[:, 0] + vocal[:, 1]) / 2\n",
    "    vocal = librosa.core.resample(vocal, SAMPLE_RATE, TARGET_SAMPLE_RATE)\n",
    "    off_vocal = (off_vocal[:, 0] + off_vocal[:, 1]) / 2\n",
    "    off_vocal = librosa.core.resample(off_vocal, SAMPLE_RATE, TARGET_SAMPLE_RATE)\n",
    "    all_data.append((track.name, vocal + off_vocal, off_vocal))"
   ]
  },
  {
   "cell_type": "code",
   "execution_count": 9,
   "metadata": {},
   "outputs": [
    {
     "name": "stdout",
     "output_type": "stream",
     "text": [
      "('Train:', ['James May - If You Say', 'ANiMAL - Rockshow', 'M.E.R.C. Music - Knockout', 'Music Delta - Punk', 'BKS - Bulldozer', 'The Scarlet Brand - Les Fleurs Du Mal', 'James May - All Souls Moon', 'James May - On The Line', 'Triviul - Dorothy', 'Traffic Experiment - Once More (With Feeling)', 'North To Alaska - All The Same', 'James May - Dont Let Go', 'Side Effects Project - Sing With Me', 'Skelpolu - Together Alone', 'Moosmusic - Big Dummy Shake', 'Titanium - Haunted Age', 'PR - Happy Daze', 'BigTroubles - Phantom', 'Sambasevam Shanmugam - Kaathaadi', 'The Mountaineering Club - Mallory', 'Steven Clark - Bounty', 'Lyndsey Ollard - Catching Up', 'Alexander Ross - Velvet Curtain', 'Drumtracks - Ghost Bitch', 'Tim Taler - Stalker', 'Georgia Wonder - Siren', 'Hollow Ground - Ill Fate', 'Secret Mountains - High Horse', 'Tom McKenzie - Directions', 'Helado Negro - Mitad Del Mundo', 'Music Delta - Gospel', 'PR - Oh No', 'Young Griffo - Blood To Bone', 'Punkdisco - Oral Hygiene', 'Hop Along - Sister Cities', 'Auctioneer - Our Future Faces', 'Port St Willow - Stay Even', 'Zeno - Signs', 'Celestial Shore - Die For Us', 'Clara Berry And Wooldog - Air Traffic', 'Actions - One Minute Smile', 'Leaf - Summerghost', 'Speak Softly - Like Horses', 'Secretariat - Over The Top', 'The Districts - Vermont', 'Patrick Talbot - A Reason To Leave', \"Phre The Eon - Everybody's Falling Apart\", 'AM Contra - Heart Peripheral', 'Raft Monk - Tiring', 'Enda Reilly - Cur An Long Ag Seol', \"Little Chicago's Finest - My Own\", 'Louis Cressy Band - Good Time', 'Creepoid - OldTree', 'Snowmine - Curfews', 'A Classic Education - NightOwl', \"Actions - Devil's Words\", 'Black Bloc - If You Want Success', 'Remember December - C U Next Time', 'AvaLuna - Waterduct', 'Triviul - Angelsaint', 'Al James - Schoolboy Facination', 'Signe Jakobsen - What Have You Done To Me', 'Clara Berry And Wooldog - Waltz For My Victims', 'Cnoc An Tursa - Bannockburn', 'Fergessen - The Wind', 'Grants - PunchDrunk', 'Clara Berry And Wooldog - Stella', 'Flags - 54', 'Matthew Entwistle - Dont You Ever', 'ANiMAL - Easy Tiger', 'Detsky Sad - Walkie Talkie', 'Swinging Steaks - Lost My Way', 'Music Delta - Britpop', 'Johnny Lokke - Promises & Lies', 'Hollow Ground - Left Blind', 'Music Delta - Rock', 'Voelund - Comfort Lives In Belief', 'Speak Softly - Broken Man', \"Angels In Amplifiers - I'm Alright\", 'Buitraker - Revo X', 'Young Griffo - Facade', 'Traffic Experiment - Sirens', 'Skelpolu - Human Mistakes', 'Music Delta - Country2', 'Music Delta - Country1', 'Meaxic - You Listen', 'Music Delta - Reggae', \"Juliet's Rescue - Heartbeats\", 'Bobby Nobody - Stitch Up', 'Faces On Film - Waiting For Ga', 'Young Griffo - Pennies', 'The So So Glos - Emergency', 'Jay Menon - Through My Eyes', 'Giselle - Moss', 'Dreamers Of The Ghetto - Heavy Love', 'Cristina Vane - So Easy', 'James Elder & Mark M Thompson - The English Actor', 'Jokers, Jacks & Kings - Sea Of Leaves', 'Strand Of Oaks - Spacestation', 'BKS - Too Much', \"The Wrong'Uns - Rothko\", 'Night Panther - Fire', 'Mu - Too Bright', 'Sweet Lights - You Let Me Down', 'Motor Tapes - Shore', 'The Long Wait - Back Home To Blue', 'Aimee Norwich - Child', 'Music Delta - Grunge', 'Forkupines - Semantics', 'Patrick Talbot - Set Me Free', 'Lushlife - Toynbee Suite', \"Spike Mullings - Mike's Sulking\", 'The Easton Ellises - Falcon 69', 'Triviul feat. The Fiend - Widow', \"Ben Carrigan - We'll Talk About It All Tonight\", 'Bill Chudziak - Children Of No-one', 'The Long Wait - Dark Horses', 'Chris Durban - Celebrate', 'Skelpolu - Resurrection', 'Hezekiah Jones - Borrowed Heart'])\n",
      "('Test:', ['Music Delta - Hendrix', 'Fergessen - Back From The Start', 'Music Delta - Disco', 'Secretariat - Borderline', 'ANiMAL - Clinic A', 'Leaf - Come Around', 'Music Delta - Beatles', 'Dark Ride - Burning Bridges', 'Invisible Familiars - Disturbing Wildlife', 'Fergessen - Nos Palpitants', 'The Sunshine Garcia Band - For I Am The Moon', 'Meaxic - Take A Step', 'Actions - South Of The Water', 'Girls Under Glass - We Feel Alright', 'Leaf - Wicked', 'Angela Thomas Wade - Milk Cow Blues', 'Music Delta - 80s Rock', 'Atlantis Bound - It Was My Fault For Waiting', 'Carlos Gonzalez - A Place For Us', 'Music Delta - Rockabilly', 'Johnny Lokke - Whisper To A Scream', 'Wall Of Death - Femme', 'The Doppler Shift - Atrophy', 'Timboz - Pony', 'Nerve 9 - Pray For The Rain', 'We Fell From The Sky - Not You', 'The Easton Ellises (Baumi) - SDRNR', 'Arise - Run Run Run', 'Alexander Ross - Goodbye Bolero', 'St Vitus - Word Gets Around'])\n"
     ]
    }
   ],
   "source": [
    "idx = np.array(range(len(all_data)))\n",
    "np.random.seed(12345678)\n",
    "np.random.shuffle(idx)\n",
    "num_train = int(math.ceil(0.8 * len(all_data)))\n",
    "\n",
    "train_data = {}\n",
    "test_data = {}\n",
    "for i in range(len(all_data)):\n",
    "    filename, data_on, data_off = all_data[idx[i]]\n",
    "    assert len(data_on) == len(data_off)\n",
    "    if i >= num_train:\n",
    "        test_data[filename] = data_on, data_off\n",
    "    else:\n",
    "        train_data[filename] = data_on, data_off\n",
    "\n",
    "output_dir = '/mnt/z/data/musdb18'\n",
    "print('Train:', train_data.keys())\n",
    "with open(os.path.join(output_dir, 'train.pkl.gz'), 'wb') as f:\n",
    "    pickle.dump(train_data, f, protocol=2)\n",
    "\n",
    "print('Test:', test_data.keys())\n",
    "with open(os.path.join(output_dir, 'test.pkl.gz'), 'wb') as f:\n",
    "    pickle.dump(test_data, f, protocol=2)"
   ]
  },
  {
   "cell_type": "code",
   "execution_count": null,
   "metadata": {},
   "outputs": [],
   "source": []
  }
 ],
 "metadata": {
  "colab": {
   "collapsed_sections": [],
   "include_colab_link": true,
   "name": "karaoke_mp3_preprocess",
   "provenance": [],
   "version": "0.3.2"
  },
  "kernelspec": {
   "display_name": "Python 2",
   "language": "python",
   "name": "python2"
  },
  "language_info": {
   "codemirror_mode": {
    "name": "ipython",
    "version": 2
   },
   "file_extension": ".py",
   "mimetype": "text/x-python",
   "name": "python",
   "nbconvert_exporter": "python",
   "pygments_lexer": "ipython2",
   "version": "2.7.13"
  }
 },
 "nbformat": 4,
 "nbformat_minor": 1
}
