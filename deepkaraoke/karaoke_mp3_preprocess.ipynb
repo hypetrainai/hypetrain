{
 "cells": [
  {
   "cell_type": "markdown",
   "metadata": {
    "colab_type": "text",
    "id": "view-in-github"
   },
   "source": [
    "[View in Colaboratory](https://colab.research.google.com/github/hypetrainai/hypetrain/blob/deepkaraoke/deepkaraoke/karaoke_mp3_preprocess.ipynb)"
   ]
  },
  {
   "cell_type": "code",
   "execution_count": 5,
   "metadata": {
    "colab": {},
    "colab_type": "code",
    "id": "G18VB5w7mNoK"
   },
   "outputs": [],
   "source": [
    "import numpy as np\n",
    "import matplotlib.pyplot as plt\n",
    "import os\n",
    "from pathlib import Path\n",
    "import pickle\n",
    "import random\n",
    "import scipy.io.wavfile\n",
    "import scipy.signal\n",
    "import shutil\n",
    "import tempfile"
   ]
  },
  {
   "cell_type": "code",
   "execution_count": 6,
   "metadata": {
    "colab": {
     "base_uri": "https://localhost:8080/",
     "height": 51
    },
    "colab_type": "code",
    "id": "3ovfnKPOQda5",
    "outputId": "3352c90b-a918-4185-c152-424b4fd6ab77"
   },
   "outputs": [
    {
     "name": "stdout",
     "output_type": "stream",
     "text": [
      "Loading from Z:\\Dropbox\\hypetrain_data\\karaoke\\16k\n",
      "Loaded 14 files\n"
     ]
    }
   ],
   "source": [
    "#@title Parse data dir for *.mp3 and *_OffVocal.mp3\n",
    "\n",
    "SAMPLING_RATE = 16000\n",
    "data_dir = 'data/16k' #@param\n",
    "data_dir = Path.resolve(Path(data_dir))\n",
    "print('Loading from', data_dir)\n",
    "\n",
    "off_vocal_files = sorted([str(f.as_posix()) for f in data_dir.glob('*_OffVocal.mp3')])\n",
    "on_vocal_files = [f.replace('_OffVocal', '') for f in off_vocal_files]\n",
    "print('Loaded %d files' % len(off_vocal_files))"
   ]
  },
  {
   "cell_type": "code",
   "execution_count": 7,
   "metadata": {
    "colab": {},
    "colab_type": "code",
    "id": "AtWvJpgnVftb"
   },
   "outputs": [],
   "source": [
    "def FindInSeq(seq, pattern):\n",
    "  \"\"\"Finds 'pattern' in 'seq'.\n",
    "  \n",
    "  The pattern will be perfectly aligned to seq, but there may be a signal that's\n",
    "  been added or removed. This tries to find that alignment.\n",
    "  \n",
    "  Args:\n",
    "    seq: the sequence containing the pattern to find, with an additional signal\n",
    "      either added or removed.\n",
    "    pattern: the pattern to find. Must be no longer than seq. Must be reasonably\n",
    "      close to the length of seq.\n",
    "      \n",
    "  Raises:\n",
    "    ValueError if the pattern is longer than seq or is much shorter than seq.\n",
    "  \n",
    "  Returns:\n",
    "    the index of 'pattern' in 'seq'.\n",
    "  \"\"\"\n",
    "  if len(pattern) > len(seq):\n",
    "    raise ValueError('pattern must be no longer than seq.')\n",
    "  if len(seq) - len(pattern) > 3 * SAMPLING_RATE:\n",
    "    raise ValueError('pattern must not be too much shorter than seq.')\n",
    "  \n",
    "  seq = seq / np.std(seq)\n",
    "  pattern = pattern / np.std(pattern)\n",
    "  corr = scipy.signal.correlate(seq, pattern, 'valid', 'fft')\n",
    "  if np.argmax(corr) != 0:\n",
    "    plt.plot(range(len(corr)), corr)\n",
    "    plt.show()\n",
    "  return np.argmax(corr)"
   ]
  },
  {
   "cell_type": "code",
   "execution_count": 8,
   "metadata": {
    "colab": {
     "base_uri": "https://localhost:8080/",
     "height": 5909
    },
    "colab_type": "code",
    "id": "ZnlZj9ZEcFnT",
    "outputId": "f5064335-e4cf-43c0-c0aa-a85d4f62bf32"
   },
   "outputs": [
    {
     "name": "stderr",
     "output_type": "stream",
     "text": [
      "'sox' is not recognized as an internal or external command,\n",
      "operable program or batch file.\n"
     ]
    },
    {
     "ename": "FileNotFoundError",
     "evalue": "[Errno 2] No such file or directory: 'C:/Users/JONATH~1/AppData/Local/Temp/tmpxdr7tu63/on_vocal.wav'",
     "output_type": "error",
     "traceback": [
      "\u001b[1;31m---------------------------------------------------------------------------\u001b[0m",
      "\u001b[1;31mFileNotFoundError\u001b[0m                         Traceback (most recent call last)",
      "\u001b[1;32m<ipython-input-8-0cc60b98ac80>\u001b[0m in \u001b[0;36m<module>\u001b[1;34m()\u001b[0m\n\u001b[0;32m      4\u001b[0m   \u001b[0mfilename\u001b[0m \u001b[1;33m=\u001b[0m \u001b[0mPath\u001b[0m\u001b[1;33m(\u001b[0m\u001b[0mos\u001b[0m\u001b[1;33m.\u001b[0m\u001b[0mpath\u001b[0m\u001b[1;33m.\u001b[0m\u001b[0mjoin\u001b[0m\u001b[1;33m(\u001b[0m\u001b[0mtmpdir\u001b[0m\u001b[1;33m,\u001b[0m \u001b[1;34m'on_vocal.wav'\u001b[0m\u001b[1;33m)\u001b[0m\u001b[1;33m)\u001b[0m\u001b[1;33m.\u001b[0m\u001b[0mas_posix\u001b[0m\u001b[1;33m(\u001b[0m\u001b[1;33m)\u001b[0m\u001b[1;33m\u001b[0m\u001b[0m\n\u001b[0;32m      5\u001b[0m   \u001b[0mget_ipython\u001b[0m\u001b[1;33m(\u001b[0m\u001b[1;33m)\u001b[0m\u001b[1;33m.\u001b[0m\u001b[0msystem\u001b[0m\u001b[1;33m(\u001b[0m\u001b[1;34m'sox \"$on_vocal\" \"$filename\"'\u001b[0m\u001b[1;33m)\u001b[0m\u001b[1;33m\u001b[0m\u001b[0m\n\u001b[1;32m----> 6\u001b[1;33m   \u001b[0mdata_on\u001b[0m \u001b[1;33m=\u001b[0m \u001b[0mscipy\u001b[0m\u001b[1;33m.\u001b[0m\u001b[0mio\u001b[0m\u001b[1;33m.\u001b[0m\u001b[0mwavfile\u001b[0m\u001b[1;33m.\u001b[0m\u001b[0mread\u001b[0m\u001b[1;33m(\u001b[0m\u001b[0mfilename\u001b[0m\u001b[1;33m)\u001b[0m\u001b[1;33m\u001b[0m\u001b[0m\n\u001b[0m\u001b[0;32m      7\u001b[0m \u001b[1;33m\u001b[0m\u001b[0m\n\u001b[0;32m      8\u001b[0m   \u001b[0mfilename\u001b[0m \u001b[1;33m=\u001b[0m \u001b[0mPath\u001b[0m\u001b[1;33m(\u001b[0m\u001b[0mos\u001b[0m\u001b[1;33m.\u001b[0m\u001b[0mpath\u001b[0m\u001b[1;33m.\u001b[0m\u001b[0mjoin\u001b[0m\u001b[1;33m(\u001b[0m\u001b[0mtmpdir\u001b[0m\u001b[1;33m,\u001b[0m \u001b[1;34m'off_vocal.wav'\u001b[0m\u001b[1;33m)\u001b[0m\u001b[1;33m)\u001b[0m\u001b[1;33m.\u001b[0m\u001b[0mas_posix\u001b[0m\u001b[1;33m(\u001b[0m\u001b[1;33m)\u001b[0m\u001b[1;33m\u001b[0m\u001b[0m\n",
      "\u001b[1;32m~\\Anaconda3\\lib\\site-packages\\scipy\\io\\wavfile.py\u001b[0m in \u001b[0;36mread\u001b[1;34m(filename, mmap)\u001b[0m\n\u001b[0;32m    231\u001b[0m         \u001b[0mmmap\u001b[0m \u001b[1;33m=\u001b[0m \u001b[1;32mFalse\u001b[0m\u001b[1;33m\u001b[0m\u001b[0m\n\u001b[0;32m    232\u001b[0m     \u001b[1;32melse\u001b[0m\u001b[1;33m:\u001b[0m\u001b[1;33m\u001b[0m\u001b[0m\n\u001b[1;32m--> 233\u001b[1;33m         \u001b[0mfid\u001b[0m \u001b[1;33m=\u001b[0m \u001b[0mopen\u001b[0m\u001b[1;33m(\u001b[0m\u001b[0mfilename\u001b[0m\u001b[1;33m,\u001b[0m \u001b[1;34m'rb'\u001b[0m\u001b[1;33m)\u001b[0m\u001b[1;33m\u001b[0m\u001b[0m\n\u001b[0m\u001b[0;32m    234\u001b[0m \u001b[1;33m\u001b[0m\u001b[0m\n\u001b[0;32m    235\u001b[0m     \u001b[1;32mtry\u001b[0m\u001b[1;33m:\u001b[0m\u001b[1;33m\u001b[0m\u001b[0m\n",
      "\u001b[1;31mFileNotFoundError\u001b[0m: [Errno 2] No such file or directory: 'C:/Users/JONATH~1/AppData/Local/Temp/tmpxdr7tu63/on_vocal.wav'"
     ]
    }
   ],
   "source": [
    "all_data = []\n",
    "for on_vocal, off_vocal in zip(on_vocal_files, off_vocal_files):\n",
    "  tmpdir = tempfile.mkdtemp()\n",
    "  filename = Path(os.path.join(tmpdir, 'on_vocal.wav')).as_posix()\n",
    "  !sox \"$on_vocal\" \"$filename\"\n",
    "  data_on = scipy.io.wavfile.read(filename)\n",
    "  \n",
    "  filename = Path(os.path.join(tmpdir, 'off_vocal.wav')).as_posix()\n",
    "  !sox \"$off_vocal\" \"$filename\"\n",
    "  data_off = scipy.io.wavfile.read(filename)\n",
    "  shutil.rmtree(tmpdir)\n",
    "  \n",
    "  assert data_on[0] == data_off[0] == SAMPLING_RATE\n",
    "  a, b = data_on[1][:, 0], data_off[1][:, 0]\n",
    "  swapped = False\n",
    "  if len(b) > len(a):\n",
    "    a, b = b, a\n",
    "    swapped = True\n",
    "  \n",
    "  shift = FindInSeq(a, b)\n",
    "  print('%s: shifting by %d.' % (os.path.basename(on_vocal), shift))\n",
    "  \n",
    "  a = a[shift:shift+len(b)]\n",
    "  if swapped:\n",
    "    a, b = b, a\n",
    "  data_on, data_off = a, b\n",
    "  all_data.append((os.path.basename(on_vocal), data_on, data_off))\n",
    "  \n",
    "  plot_len = 10000\n",
    "  step = 1\n",
    "  start = 400000\n",
    "  plt.plot(range(start, start + plot_len, step), data_on[start:start+plot_len:step], label=\"data_on\")\n",
    "  plt.plot(range(start, start + plot_len, step), data_off[start:start+plot_len:step], label=\"data_off\")\n",
    "  plt.show()\n",
    "  \n",
    "idx = np.array(range(len(all_data)))\n",
    "np.random.seed(12345678)\n",
    "np.random.shuffle(idx)\n",
    "num_train = int(0.75 * len(all_data))\n",
    "\n",
    "train_data = {}\n",
    "for i in range(num_train):\n",
    "  filename, data_on, data_off = all_data[idx[i]]\n",
    "  train_data[filename] = data_on, data_off\n",
    "print('Train:', train_data.keys())\n",
    "with open(os.path.join(data_dir, 'train.pkl.gz'), 'wb') as f:\n",
    "    pickle.dump(train_data, f, protocol=pickle.HIGHEST_PROTOCOL)\n",
    "    \n",
    "test_data = {}\n",
    "for i in range(num_train, len(all_data)):\n",
    "  filename, data_on, data_off = all_data[idx[i]]\n",
    "  test_data[filename] = data_on, data_off\n",
    "print('Test:', test_data.keys())\n",
    "with open(os.path.join(data_dir, 'test.pkl.gz'), 'wb') as f:\n",
    "    pickle.dump(test_data, f, protocol=pickle.HIGHEST_PROTOCOL)"
   ]
  }
 ],
 "metadata": {
  "colab": {
   "collapsed_sections": [],
   "include_colab_link": true,
   "name": "karaoke_mp3_preprocess",
   "provenance": [],
   "version": "0.3.2"
  },
  "kernelspec": {
   "display_name": "Python 3",
   "language": "python",
   "name": "python3"
  },
  "language_info": {
   "codemirror_mode": {
    "name": "ipython",
    "version": 3
   },
   "file_extension": ".py",
   "mimetype": "text/x-python",
   "name": "python",
   "nbconvert_exporter": "python",
   "pygments_lexer": "ipython3",
   "version": "3.6.5"
  }
 },
 "nbformat": 4,
 "nbformat_minor": 1
}
