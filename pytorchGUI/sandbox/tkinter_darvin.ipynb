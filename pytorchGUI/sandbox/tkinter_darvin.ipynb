{
 "cells": [
  {
   "cell_type": "code",
   "execution_count": 1,
   "metadata": {},
   "outputs": [],
   "source": [
    "from tkinter import *\n",
    "import tkinter as tk\n"
   ]
  },
  {
   "cell_type": "code",
   "execution_count": 2,
   "metadata": {},
   "outputs": [],
   "source": [
    "class varType:\n",
    "    def __init__(self, name, vt):\n",
    "        self.name = name\n",
    "        self.vt = vt\n",
    "    def __str__(self):\n",
    "        return self.name + \": \" + self.vt\n",
    "    def __repr__(self):\n",
    "        return str(self)\n",
    "        \n",
    "class layerType:\n",
    "    def __init__(self, name, color, inCount, outCount):\n",
    "        self.name = name\n",
    "        self.color = color\n",
    "        self.inCount = inCount\n",
    "        self.outCount = outCount\n",
    "        self.vars = []\n",
    "    def add_var(self, name, vt):\n",
    "        self.vars.append(varType(name, vt))\n"
   ]
  },
  {
   "cell_type": "code",
   "execution_count": 3,
   "metadata": {},
   "outputs": [],
   "source": [
    "layers = []\n",
    "layers.append(layerType(\"Input\", \"snow\", 1, 1))\n",
    "layers.append(layerType(\"Conv 2D\", \"blue\", 1, 1))\n",
    "layers.append(layerType(\"Max Pool 2D\", \"green\", 1, 1))\n",
    "layers.append(layerType(\"Flatten\", \"orange\", 1, 1))\n",
    "layers.append(layerType(\"Fully Conn\", \"red\", 1, 1))\n",
    "layers.append(layerType(\"CE Loss\", \"purple\", 1, 1))"
   ]
  },
  {
   "cell_type": "code",
   "execution_count": 4,
   "metadata": {},
   "outputs": [],
   "source": [
    "class layer:\n",
    "    def __init__(self, x, y, canvas, layertype):\n",
    "        self.x = x\n",
    "        self.y = y\n",
    "        self.layer = layertype\n",
    "        self.w = self.create_oval(canvas)\n",
    "        self.prev = []\n",
    "        self.covered = False\n",
    "    def create_oval(self, canvas):\n",
    "        x1,y1 = (self.x-25), (self.y-25)\n",
    "        x2,y2 = (self.x+25), (self.y+25)                              \n",
    "        return canvas.create_oval(x1, y1, x2, y2, fill=self.layer.color)\n",
    "    def move(self, x, y, canvas):\n",
    "        self.x = x\n",
    "        self.y = y\n",
    "        canvas.delete(self.w)\n",
    "        self.w = self.create_oval(canvas)\n",
    "        if self.prev:\n",
    "            for prev in self.prev:\n",
    "                self.connect(prev[0], canvas, prev[1])\n",
    "    def connect(self, prev, canvas, vec=None):\n",
    "        if vec:\n",
    "            canvas.delete(vec)\n",
    "        if (prev,vec) in self.prev:\n",
    "            self.prev.remove((prev,vec))\n",
    "        vec = canvas.create_line(prev.x,prev.y, self.x, self.y, arrow=LAST)\n",
    "        self.prev.append((prev,vec))\n",
    "\n",
    "class currLayer:\n",
    "    def __init__(self):\n",
    "        self.layer = None\n",
    "        self.rect  = None\n",
    "    def select(self, node, canvas):\n",
    "        self.layer = node\n",
    "        if self.rect:\n",
    "            canvas.delete(self.rect)\n",
    "        x1,y1 = (self.layer.x-25),(self.layer.y-25)\n",
    "        x2,y2 = (self.layer.x+25),(self.layer.y+25)\n",
    "        self.rect = canvas.create_rectangle(x1,y1, x2,y2)"
   ]
  },
  {
   "cell_type": "code",
   "execution_count": 5,
   "metadata": {},
   "outputs": [],
   "source": [
    "canvas_width = 1280\n",
    "canvas_height = 720\n",
    "\n",
    "root = tk.Tk()\n",
    "root.title(\"Draw the Network\")\n",
    "\n",
    "c = tk.Canvas(root, width=canvas_width, height=canvas_height)\n",
    "c.pack(expand = YES, fill = BOTH)\n",
    "message = Label( root, text = \"Press and Drag the mouse to draw\" )\n",
    "message.pack( side = BOTTOM )\n",
    "\n",
    "lf = tk.Canvas(c, width=280, height=canvas_height,highlightbackground=\"green\", highlightthickness=1)\n",
    "lf.pack(side=tk.LEFT, anchor=\"w\",expand = YES, fill = BOTH)\n",
    "rf = tk.Canvas(c, width=1000,height=canvas_height)\n",
    "rf.pack(side=tk.LEFT,expand = YES, fill = BOTH)\n",
    "w = rf\n",
    "\n",
    "buttons = []\n",
    "for i in range(0, len(layers)):\n",
    "  f = tk.Canvas(lf, width=280, height=720)\n",
    "  f.pack(side=tk.TOP)\n",
    "  b = tk.Button(f, text=layers[i].name, width=10, anchor=tk.W)\n",
    "  b.pack(side=tk.TOP)\n",
    "  buttons.append(b)\n",
    "\n",
    "def setin(i):\n",
    "  inp = layers[i]\n",
    "  for button in buttons:\n",
    "    button.config(highlightbackground=\"white\")\n",
    "  buttons[i].config(highlightbackground=\"red\")\n",
    "\n",
    "  return setInput(inp)\n",
    "\n",
    "\n",
    "for i in range(0, len(layers)):\n",
    "  buttons[i].config(command=lambda i=i: setin(i))\n",
    "\n",
    "def setInput(inp):\n",
    "  global layertype\n",
    "  layertype = inp\n",
    "\n",
    "list_nodes = []\n",
    "currNode = currLayer()\n",
    "layertype = None"
   ]
  },
  {
   "cell_type": "code",
   "execution_count": 6,
   "metadata": {},
   "outputs": [],
   "source": [
    "f = tk.Canvas(lf, width=280, height=720)\n",
    "f.pack(side=tk.TOP)\n",
    "b = tk.Button(f, text='Create Code', width=10, anchor=tk.W)\n",
    "b.pack(side=tk.BOTTOM)\n",
    "\n",
    "def setin2():\n",
    "    for button in buttons:\n",
    "        button.config(highlightbackground=\"white\")\n",
    "    #print('hello world')\n",
    "    code = ''\n",
    "    for node in list_nodes:\n",
    "        node.covered = False\n",
    "    for node in list_nodes:\n",
    "        if node.layer == layers[5]:\n",
    "            code = DFS_nodes(node, code)\n",
    "    print(code)\n",
    "    \n",
    "def DFS_nodes(node, code):\n",
    "    node.covered = True\n",
    "    for prev in node.prev:\n",
    "        if not prev[0].covered:\n",
    "            code = DFS_nodes(prev[0], code)\n",
    "    code = code + node.layer.name + '\\n'\n",
    "    return code\n",
    "\n",
    "b.config(command=lambda: setin2())"
   ]
  },
  {
   "cell_type": "code",
   "execution_count": 7,
   "metadata": {},
   "outputs": [],
   "source": [
    "def selectORcreate( event ):\n",
    "    global layertype\n",
    "    if layertype is None:\n",
    "        return\n",
    "    x = event.x\n",
    "    y = event.y\n",
    "    selected = None\n",
    "    for node in list_nodes:\n",
    "        if (x - node.x)**2 + (y - node.y)**2 < 25**2:\n",
    "            selected = node\n",
    "            break\n",
    "    if selected:\n",
    "        currNode.select(selected, w)\n",
    "    else:\n",
    "        selected = layer(x,y,w, layertype)\n",
    "        currNode.select(selected, w)\n",
    "        list_nodes.append(selected)\n",
    "        \n",
    "def move( event ):\n",
    "    selected = currNode.layer\n",
    "    if selected is None:\n",
    "        return\n",
    "    selected.move( event.x, event.y, w )\n",
    "    for node in list_nodes:\n",
    "        for prev in node.prev:\n",
    "            if prev[0] == selected:\n",
    "                node.move(node.x, node.y, w)\n",
    "    currNode.select(selected, w)\n",
    "    \n",
    "def connect( event ):\n",
    "    x = event.x\n",
    "    y = event.y\n",
    "    selected = None\n",
    "    for node in list_nodes:\n",
    "        if (x - node.x)**2 + (y - node.y)**2 < 25**2:\n",
    "            selected = node\n",
    "            break\n",
    "    if selected:\n",
    "        selected.connect(currNode.layer, w)\n",
    "        currNode.select(selected, w)\n",
    "\n",
    "rect = None\n",
    "x_rect = None\n",
    "y_rect = None\n",
    "def draw_rect_start( event ):\n",
    "    global rect,x_rect,y_rect\n",
    "    x_rect = event.x\n",
    "    y_rect = event.y\n",
    "    rect=None\n",
    "    \n",
    "def draw_rect( event ):\n",
    "    global rect,x_rect,y_rect\n",
    "    if rect:\n",
    "        w.delete(rect)\n",
    "    rect = w.create_rectangle(x_rect,y_rect, event.x,event.y)\n",
    "\n",
    "def delete_rect( event ):\n",
    "    global rect,x_rect,y_rect\n",
    "    if rect:\n",
    "        w.delete(rect)"
   ]
  },
  {
   "cell_type": "code",
   "execution_count": 8,
   "metadata": {},
   "outputs": [
    {
     "data": {
      "text/plain": [
       "'140464161508616delete_rect'"
      ]
     },
     "execution_count": 8,
     "metadata": {},
     "output_type": "execute_result"
    }
   ],
   "source": [
    "w.bind( \"<Button-1>\", selectORcreate)\n",
    "w.bind( \"<Button-3>\", connect)\n",
    "w.bind( \"<B1-Motion>\", move)\n",
    "\n",
    "w.bind(\"<Shift-Button-1>\", draw_rect_start)\n",
    "w.bind(\"<Shift-B1-Motion>\", draw_rect)\n",
    "w.bind(\"<Shift-ButtonRelease-1>\", delete_rect)"
   ]
  },
  {
   "cell_type": "code",
   "execution_count": 9,
   "metadata": {
    "scrolled": true
   },
   "outputs": [
    {
     "name": "stdout",
     "output_type": "stream",
     "text": [
      "Input\n",
      "Conv 2D\n",
      "Max Pool 2D\n",
      "Fully Conn\n",
      "Flatten\n",
      "CE Loss\n",
      "\n",
      "Input\n",
      "Conv 2D\n",
      "Max Pool 2D\n",
      "Fully Conn\n",
      "Flatten\n",
      "Flatten\n",
      "Flatten\n",
      "CE Loss\n",
      "\n"
     ]
    }
   ],
   "source": [
    "mainloop()"
   ]
  },
  {
   "cell_type": "code",
   "execution_count": null,
   "metadata": {},
   "outputs": [],
   "source": []
  },
  {
   "cell_type": "code",
   "execution_count": 10,
   "metadata": {},
   "outputs": [
    {
     "ename": "NameError",
     "evalue": "name 'node' is not defined",
     "output_type": "error",
     "traceback": [
      "\u001b[0;31m---------------------------------------------------------------------------\u001b[0m",
      "\u001b[0;31mNameError\u001b[0m                                 Traceback (most recent call last)",
      "\u001b[0;32m<ipython-input-10-d953612aa52d>\u001b[0m in \u001b[0;36m<module>\u001b[0;34m()\u001b[0m\n\u001b[0;32m----> 1\u001b[0;31m \u001b[0mprint\u001b[0m\u001b[0;34m(\u001b[0m\u001b[0mnode\u001b[0m\u001b[0;34m.\u001b[0m\u001b[0mlayer\u001b[0m\u001b[0;34m)\u001b[0m\u001b[0;34m\u001b[0m\u001b[0m\n\u001b[0m",
      "\u001b[0;31mNameError\u001b[0m: name 'node' is not defined"
     ]
    }
   ],
   "source": [
    "print(node.layer)"
   ]
  },
  {
   "cell_type": "raw",
   "metadata": {},
   "source": []
  },
  {
   "cell_type": "code",
   "execution_count": null,
   "metadata": {},
   "outputs": [],
   "source": []
  },
  {
   "cell_type": "code",
   "execution_count": null,
   "metadata": {},
   "outputs": [],
   "source": []
  }
 ],
 "metadata": {
  "kernelspec": {
   "display_name": "Python 3",
   "language": "python",
   "name": "python3"
  },
  "language_info": {
   "codemirror_mode": {
    "name": "ipython",
    "version": 3
   },
   "file_extension": ".py",
   "mimetype": "text/x-python",
   "name": "python",
   "nbconvert_exporter": "python",
   "pygments_lexer": "ipython3",
   "version": "3.6.5"
  }
 },
 "nbformat": 4,
 "nbformat_minor": 2
}
