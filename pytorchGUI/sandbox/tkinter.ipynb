{
 "cells": [
  {
   "cell_type": "code",
   "execution_count": 84,
   "metadata": {},
   "outputs": [],
   "source": [
    "from tkinter import *\n",
    "import tkinter as tk"
   ]
  },
  {
   "cell_type": "code",
   "execution_count": 85,
   "metadata": {},
   "outputs": [],
   "source": [
    "texts = [\"Input\", \"Conv 2D\", \"Max Pool 2D\", \"Flatten\", \"Fully Conn\"]\n",
    "inputs = range(5)#[\"i\", \"c\", \"mp\", \"f\", \"fc\"]\n",
    "colors = [\"snow\", \"blue\", \"green\", \"orange\", \"red\"]"
   ]
  },
  {
   "cell_type": "code",
   "execution_count": 123,
   "metadata": {},
   "outputs": [],
   "source": [
    "class layer:\n",
    "    def __init__(self, x, y, canvas, layertype):\n",
    "        self.x = x\n",
    "        self.y = y\n",
    "        self.layer = layertype\n",
    "        self.w = self.create_oval(canvas)\n",
    "        self.prev = []\n",
    "    def create_oval(self, canvas):\n",
    "        x1,y1 = (self.x-25), (self.y-25)\n",
    "        x2,y2 = (self.x+25), (self.y+25)\n",
    "        return canvas.create_oval(x1, y1, x2, y2, fill=colors[self.layer])\n",
    "    def move(self, x, y, canvas):\n",
    "        self.x = x\n",
    "        self.y = y\n",
    "        canvas.delete(self.w)\n",
    "        self.w = self.create_oval(canvas)\n",
    "        if self.prev:\n",
    "            for prev in self.prev:\n",
    "                self.connect(prev[0], canvas, prev[1])\n",
    "    def connect(self, prev, canvas, vec=None):\n",
    "        if vec:\n",
    "            canvas.delete(vec)\n",
    "        if (prev,vec) in self.prev:\n",
    "            self.prev.remove((prev,vec))\n",
    "        vec = canvas.create_line(prev.x,prev.y, self.x, self.y, arrow=LAST)\n",
    "        self.prev.append((prev,vec))\n",
    "\n",
    "class currLayer:\n",
    "    def __init__(self):\n",
    "        self.layer = None\n",
    "        self.rect  = None\n",
    "    def select(self, node, canvas):\n",
    "        self.layer = node\n",
    "        if self.rect:\n",
    "            canvas.delete(self.rect)\n",
    "        x1,y1 = (self.layer.x-25),(self.layer.y-25)\n",
    "        x2,y2 = (self.layer.x+25),(self.layer.y+25)\n",
    "        self.rect = canvas.create_rectangle(x1,y1, x2,y2)"
   ]
  },
  {
   "cell_type": "code",
   "execution_count": 124,
   "metadata": {},
   "outputs": [],
   "source": [
    "canvas_width = 1280\n",
    "canvas_height = 720\n",
    "\n",
    "root = tk.Tk()\n",
    "root.title(\"Draw the Network\")\n",
    "\n",
    "c = tk.Canvas(root, width=canvas_width, height=canvas_height)\n",
    "c.pack(expand = YES, fill = BOTH)\n",
    "message = Label( root, text = \"Press and Drag the mouse to draw\" )\n",
    "message.pack( side = BOTTOM )\n",
    "\n",
    "lf = tk.Canvas(c, width=280, height=canvas_height,highlightbackground=\"green\", highlightthickness=1)\n",
    "lf.pack(side=tk.LEFT, anchor=\"w\",expand = YES, fill = BOTH)\n",
    "rf = tk.Canvas(c, width=1000,height=canvas_height)\n",
    "rf.pack(side=tk.LEFT,expand = YES, fill = BOTH)\n",
    "w = rf\n",
    "\n",
    "buttons = []\n",
    "for i in range(0, len(texts)):\n",
    "  f = tk.Canvas(lf, width=280, height=720)\n",
    "  f.pack(side=tk.TOP)\n",
    "  b = tk.Button(f, text=texts[i], width=10, anchor=tk.W)\n",
    "  b.pack(side=tk.TOP)\n",
    "  buttons.append(b)\n",
    "\n",
    "def setin(i):\n",
    "  inp = inputs[i]\n",
    "  for button in buttons:\n",
    "    button.config(highlightbackground=\"white\")\n",
    "  buttons[i].config(highlightbackground=\"red\")\n",
    "\n",
    "  return setInput(inp)\n",
    "\n",
    "\n",
    "for i in range(0, len(texts)):\n",
    "  buttons[i].config(command=lambda i=i: setin(i))\n",
    "\n",
    "def setInput(inp):\n",
    "  global layertype\n",
    "  layertype = inp\n",
    "  print(inp)\n",
    "\n",
    "list_nodes = []\n",
    "currNode = currLayer()"
   ]
  },
  {
   "cell_type": "code",
   "execution_count": 125,
   "metadata": {},
   "outputs": [],
   "source": [
    "def selectORcreate( event ):\n",
    "    x = event.x\n",
    "    y = event.y\n",
    "    selected = None\n",
    "    for node in list_nodes:\n",
    "        if (x - node.x)**2 + (y - node.y)**2 < 25**2:\n",
    "            selected = node\n",
    "            break\n",
    "    if selected:\n",
    "        currNode.select(selected, w)\n",
    "    else:\n",
    "        selected = layer(x,y,w, layertype)\n",
    "        currNode.select(selected, w)\n",
    "        list_nodes.append(selected)\n",
    "        \n",
    "def move( event ):\n",
    "    selected = currNode.layer\n",
    "    selected.move( event.x, event.y, w )\n",
    "    for node in list_nodes:\n",
    "        for prev in node.prev:\n",
    "            if prev[0] == selected:\n",
    "                node.move(node.x, node.y, w)\n",
    "    currNode.select(selected, w)\n",
    "    \n",
    "def connect( event ):\n",
    "    x = event.x\n",
    "    y = event.y\n",
    "    selected = None\n",
    "    for node in list_nodes:\n",
    "        if (x - node.x)**2 + (y - node.y)**2 < 25**2:\n",
    "            selected = node\n",
    "            break\n",
    "    if selected:\n",
    "        selected.connect(currNode.layer, w)\n",
    "        currNode.select(selected, w)\n",
    "        \n"
   ]
  },
  {
   "cell_type": "code",
   "execution_count": 126,
   "metadata": {},
   "outputs": [
    {
     "data": {
      "text/plain": [
       "'139894400052744move'"
      ]
     },
     "execution_count": 126,
     "metadata": {},
     "output_type": "execute_result"
    }
   ],
   "source": [
    "w.bind( \"<Button-1>\", selectORcreate)\n",
    "w.bind( \"<Button-3>\", connect)\n",
    "w.bind( \"<B1-Motion>\", move)"
   ]
  },
  {
   "cell_type": "code",
   "execution_count": 127,
   "metadata": {},
   "outputs": [
    {
     "name": "stdout",
     "output_type": "stream",
     "text": [
      "0\n",
      "1\n",
      "2\n",
      "3\n",
      "2\n",
      "4\n"
     ]
    }
   ],
   "source": [
    "mainloop()"
   ]
  },
  {
   "cell_type": "code",
   "execution_count": null,
   "metadata": {},
   "outputs": [],
   "source": []
  }
 ],
 "metadata": {
  "kernelspec": {
   "display_name": "Python 3",
   "language": "python",
   "name": "python3"
  },
  "language_info": {
   "codemirror_mode": {
    "name": "ipython",
    "version": 3
   },
   "file_extension": ".py",
   "mimetype": "text/x-python",
   "name": "python",
   "nbconvert_exporter": "python",
   "pygments_lexer": "ipython3",
   "version": "3.6.5"
  }
 },
 "nbformat": 4,
 "nbformat_minor": 2
}
